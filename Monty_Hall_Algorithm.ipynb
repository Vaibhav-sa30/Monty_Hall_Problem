{
  "nbformat": 4,
  "nbformat_minor": 0,
  "metadata": {
    "colab": {
      "provenance": [],
      "authorship_tag": "ABX9TyPSgSRcCR+9EUSrXlappNKz",
      "include_colab_link": true
    },
    "kernelspec": {
      "name": "python3",
      "display_name": "Python 3"
    },
    "language_info": {
      "name": "python"
    }
  },
  "cells": [
    {
      "cell_type": "markdown",
      "metadata": {
        "id": "view-in-github",
        "colab_type": "text"
      },
      "source": [
        "<a href=\"https://colab.research.google.com/github/Vaibhav-sa30/Monty_Hall_Problem/blob/main/Monty_Hall_Algorithm.ipynb\" target=\"_parent\"><img src=\"https://colab.research.google.com/assets/colab-badge.svg\" alt=\"Open In Colab\"/></a>"
      ]
    },
    {
      "cell_type": "code",
      "source": [
        "import random\n",
        "import matplotlib.pyplot as plt\n",
        "plt.style.use('fivethirtyeight')"
      ],
      "metadata": {
        "id": "bYrVHFrWQJnv"
      },
      "execution_count": 1,
      "outputs": []
    },
    {
      "cell_type": "code",
      "source": [
        "#Create a function for the host to reveal a door that doesn't contain the price AND the door that is not already chosen by the contestent originally.\n",
        "\n",
        "def get_non_prize_door(host, num_doors, player_choice):\n",
        "  i = 1\n",
        "  while (i ==  host or i == player_choice):\n",
        "    i = (i+1)%(num_doors)\n",
        "\n",
        "  return i\n"
      ],
      "metadata": {
        "id": "LNZJrAQvQc6g"
      },
      "execution_count": 2,
      "outputs": []
    },
    {
      "cell_type": "code",
      "source": [
        "#Create a function to have the player chose a door that is already been not chosen\n",
        "\n",
        "def switch_door(shown_door, num_doors, player_choice):\n",
        "  i = 1\n",
        "  while (i == shown_door or i == player_choice):\n",
        "    i = (i+1)%(num_doors)\n",
        "\n",
        "  return i\n"
      ],
      "metadata": {
        "id": "SPR-MFhCR-FL"
      },
      "execution_count": 3,
      "outputs": []
    },
    {
      "cell_type": "code",
      "source": [
        "#Create a function to simulate THE GAME\n",
        "\n",
        "def monty_hall_game(switch, num_tests):\n",
        "\n",
        "  win_switch_cnt = 0\n",
        "  win_no_switch_cnt = 0\n",
        "  lose_switch_cnt = 0\n",
        "  lose_no_switch_cnt = 0\n",
        "\n",
        "  doors = [0,1,2]\n",
        "  num_doors = len(doors)\n",
        "\n",
        "  #Loop through the number of times the contestant/player can play the game\n",
        "  for i in range(0, num_tests):\n",
        "    door_with_prize = random.randint(0, num_doors-1) #Randomly choose a door between [0,2]\n",
        "    host = door_with_prize\n",
        "    player_choice = random.randint(0, num_doors-1)\n",
        "    original_player_choice = player_choice\n",
        "    shown_door = get_non_prize_door(host, num_doors, player_choice)\n",
        "\n",
        "    #if the player chooses to always switch, then allow the player to switch to their original chosen door to the other door.\n",
        "\n",
        "    if switch == True:\n",
        "      player_choice = switch_door(shown_door, num_doors, player_choice)\n",
        "\n",
        "    if player_choice == door_with_prize  and switch == False:\n",
        "      #Then the player wins from not switching\n",
        "      print('Player Wins (No Switch) - The Player chose door ', player_choice, 'Original Door Choice: ', original_player_choice, 'Door with Prize: ', door_with_prize, 'Shown_Door: ', shown_door)\n",
        "      win_no_switch_cnt += 1\n",
        "\n",
        "    elif player_choice == door_with_prize  and switch == True:\n",
        "      #Then the player wins from switching\n",
        "      print('Player Wins (Switches) - The Player chose door ', player_choice, 'Original Door Choice: ', original_player_choice, 'Door with Prize: ', door_with_prize, 'Shown_Door: ', shown_door)\n",
        "      win_switch_cnt += 1\n",
        "\n",
        "    elif player_choice != door_with_prize  and switch == False:\n",
        "      #Then the player loses from not switching\n",
        "      print('Player Lost (No Switch) - The Player chose door ', player_choice, 'Original Door Choice: ', original_player_choice, 'Door with Prize: ', door_with_prize, 'Shown_Door: ', shown_door)\n",
        "      lose_no_switch_cnt += 1\n",
        "\n",
        "    elif player_choice != door_with_prize  and switch == True:\n",
        "      #Then the player loses from switching\n",
        "      print('Player Lost (Switches) - The Player chose door ', player_choice, 'Original Door Choice: ', original_player_choice, 'Door with Prize: ', door_with_prize, 'Shown_Door: ', shown_door)\n",
        "      lose_switch_cnt += 1\n",
        "\n",
        "    else:\n",
        "      print('SOMETHING WENT WRONG')\n",
        "\n",
        "  return win_no_switch_cnt, win_switch_cnt, lose_no_switch_cnt, lose_switch_cnt, num_tests\n",
        "\n"
      ],
      "metadata": {
        "id": "iODvn542SxHJ"
      },
      "execution_count": 7,
      "outputs": []
    },
    {
      "cell_type": "code",
      "source": [
        "#Play the GAme\n",
        "x = monty_hall_game(True, 10)"
      ],
      "metadata": {
        "colab": {
          "base_uri": "https://localhost:8080/"
        },
        "id": "sEV2wcydhBBj",
        "outputId": "c0c0dea5-fbcc-48b0-ddc7-514fb76d852a"
      },
      "execution_count": 11,
      "outputs": [
        {
          "output_type": "stream",
          "name": "stdout",
          "text": [
            "Player Wins (Switches) - The Player chose door  2 Original Door Choice:  0 Door with Prize:  2 Shown_Door:  1\n",
            "Player Lost (Switches) - The Player chose door  0 Original Door Choice:  1 Door with Prize:  1 Shown_Door:  2\n",
            "Player Wins (Switches) - The Player chose door  0 Original Door Choice:  2 Door with Prize:  0 Shown_Door:  1\n",
            "Player Wins (Switches) - The Player chose door  0 Original Door Choice:  2 Door with Prize:  0 Shown_Door:  1\n",
            "Player Wins (Switches) - The Player chose door  0 Original Door Choice:  1 Door with Prize:  0 Shown_Door:  2\n",
            "Player Lost (Switches) - The Player chose door  0 Original Door Choice:  2 Door with Prize:  2 Shown_Door:  1\n",
            "Player Wins (Switches) - The Player chose door  2 Original Door Choice:  0 Door with Prize:  2 Shown_Door:  1\n",
            "Player Wins (Switches) - The Player chose door  0 Original Door Choice:  1 Door with Prize:  0 Shown_Door:  2\n",
            "Player Wins (Switches) - The Player chose door  0 Original Door Choice:  1 Door with Prize:  0 Shown_Door:  2\n",
            "Player Lost (Switches) - The Player chose door  2 Original Door Choice:  0 Door with Prize:  0 Shown_Door:  1\n"
          ]
        }
      ]
    },
    {
      "cell_type": "code",
      "source": [
        "#Get the win and lose percentage for switching and not switching\n",
        "\n",
        "print(\"Win switch %:  \", x[1]/x[4])\n",
        "\n",
        "print(\"Lose switch %:  \", x[3]/x[4])\n",
        "\n",
        "print(\"Win No switch %:  \", x[0]/x[4])\n",
        "\n",
        "print(\"Lose No switch %:  \", x[2]/x[4])"
      ],
      "metadata": {
        "colab": {
          "base_uri": "https://localhost:8080/"
        },
        "id": "lSxXNCRthkyG",
        "outputId": "df0ab213-a5eb-4033-bfbe-5e4972378fcb"
      },
      "execution_count": 12,
      "outputs": [
        {
          "output_type": "stream",
          "name": "stdout",
          "text": [
            "Win switch %:   0.7\n",
            "Lose switch %:   0.3\n",
            "Win No switch %:   0.0\n",
            "Lose No switch %:   0.0\n"
          ]
        }
      ]
    },
    {
      "cell_type": "code",
      "source": [
        "#Create a function to simulate THE GAME\n",
        "\n",
        "def monty_hall_game2(switch, num_tests):\n",
        "\n",
        "  win_switch_cnt = 0\n",
        "  win_no_switch_cnt = 0\n",
        "  lose_switch_cnt = 0\n",
        "  lose_no_switch_cnt = 0\n",
        "\n",
        "  doors = [0,1,2]\n",
        "  num_doors = len(doors)\n",
        "\n",
        "  #Loop through the number of times the contestant/player can play the game\n",
        "  for i in range(0, num_tests):\n",
        "    door_with_prize = random.randint(0, num_doors-1) #Randomly choose a door between [0,2]\n",
        "    host = door_with_prize\n",
        "    player_choice = random.randint(0, num_doors-1)\n",
        "    original_player_choice = player_choice\n",
        "    shown_door = get_non_prize_door(host, num_doors, player_choice)\n",
        "\n",
        "    #if the player chooses to always switch, then allow the player to switch to their original chosen door to the other door.\n",
        "\n",
        "    if switch == True:\n",
        "      player_choice = switch_door(shown_door, num_doors, player_choice)\n",
        "\n",
        "    if player_choice == door_with_prize  and switch == False:\n",
        "      #Then the player wins from not switching\n",
        "      #print('Player Wins (No Switch) - The Player chose door ', player_choice, 'Original Door Choice: ', original_player_choice, 'Door with Prize: ', door_with_prize, 'Shown_Door: ', shown_door)\n",
        "      win_no_switch_cnt += 1\n",
        "\n",
        "    elif player_choice == door_with_prize  and switch == True:\n",
        "      #Then the player wins from switching\n",
        "      #print('Player Wins (Switches) - The Player chose door ', player_choice, 'Original Door Choice: ', original_player_choice, 'Door with Prize: ', door_with_prize, 'Shown_Door: ', shown_door)\n",
        "      win_switch_cnt += 1\n",
        "\n",
        "    elif player_choice != door_with_prize  and switch == False:\n",
        "      #Then the player loses from not switching\n",
        "      #print('Player Lost (No Switch) - The Player chose door ', player_choice, 'Original Door Choice: ', original_player_choice, 'Door with Prize: ', door_with_prize, 'Shown_Door: ', shown_door)\n",
        "      lose_no_switch_cnt += 1\n",
        "\n",
        "    elif player_choice != door_with_prize  and switch == True:\n",
        "      #Then the player loses from switching\n",
        "      #print('Player Lost (Switches) - The Player chose door ', player_choice, 'Original Door Choice: ', original_player_choice, 'Door with Prize: ', door_with_prize, 'Shown_Door: ', shown_door)\n",
        "      lose_switch_cnt += 1\n",
        "\n",
        "  return win_no_switch_cnt, win_switch_cnt, lose_no_switch_cnt, lose_switch_cnt, num_tests\n",
        "\n"
      ],
      "metadata": {
        "id": "J0I42ce_kGWs"
      },
      "execution_count": 16,
      "outputs": []
    },
    {
      "cell_type": "code",
      "source": [
        "y = monty_hall_game2(True, 10000)\n",
        "\n",
        "\n",
        "print(\"Win switch %:  \", y[1]/y[4])\n",
        "\n",
        "print(\"Lose switch %:  \", y[3]/y[4])\n",
        "\n",
        "print(\"Win No switch %:  \", y[0]/y[4])\n",
        "\n",
        "print(\"Lose No switch %:  \", y[2]/y[4])"
      ],
      "metadata": {
        "colab": {
          "base_uri": "https://localhost:8080/"
        },
        "id": "NBkjip5-kQ8k",
        "outputId": "52776815-6b2d-4851-ff74-66407c583525"
      },
      "execution_count": 19,
      "outputs": [
        {
          "output_type": "stream",
          "name": "stdout",
          "text": [
            "Win switch %:   0.6609\n",
            "Lose switch %:   0.3391\n",
            "Win No switch %:   0.0\n",
            "Lose No switch %:   0.0\n"
          ]
        }
      ]
    },
    {
      "cell_type": "code",
      "source": [
        "#Get the data to create visualization of the number of simulated tests/games played and the percentage of wins from always switching\n",
        "\n",
        "num_tests = []\n",
        "win_percentage = []\n",
        "switch = True\n",
        "#Run upto 2000 simulated games\n",
        "\n",
        "for i in range(1, 2001):\n",
        "  num_tests.append(i)\n",
        "  y = monty_hall_game2(switch, i)\n",
        "  win_percentage.append(y[1]/y[4])\n",
        ""
      ],
      "metadata": {
        "id": "mt-G3FXKk5EN"
      },
      "execution_count": 20,
      "outputs": []
    },
    {
      "cell_type": "code",
      "source": [
        "plt.figure(figsize = (12.2, 4.5))\n",
        "plt.plot(num_tests, win_percentage)\n",
        "plt.title('Monty Hall Problem')\n",
        "plt.xlabel('Number of tests')\n",
        "plt.ylabel('Win %')\n",
        "plt.show()"
      ],
      "metadata": {
        "colab": {
          "base_uri": "https://localhost:8080/",
          "height": 484
        },
        "id": "inx14RFJl8fq",
        "outputId": "ca654dfe-1352-4863-8878-74d9b8da423d"
      },
      "execution_count": 21,
      "outputs": [
        {
          "output_type": "display_data",
          "data": {
            "text/plain": [
              "<Figure size 1220x450 with 1 Axes>"
            ],
            "image/png": "[encoded data removed]"
          },
          "metadata": {}
        }
      ]
    },
    {
      "cell_type": "code",
      "source": [
        "print('The win percentage for test playing ', y[4] , 'games is: ', y[1]/y[4]*100, '%')"
      ],
      "metadata": {
        "colab": {
          "base_uri": "https://localhost:8080/"
        },
        "id": "sUEcxDyYnEKP",
        "outputId": "a1a629be-7e41-464f-f887-cf080954660e"
      },
      "execution_count": 22,
      "outputs": [
        {
          "output_type": "stream",
          "name": "stdout",
          "text": [
            "The win percentage for test playing  2000 games is:  65.64999999999999 %\n"
          ]
        }
      ]
    },
    {
      "cell_type": "markdown",
      "source": [
        "# **TO SWITCH OR NOT TO SWITCH?**\n",
        "\n",
        "So what is the answer to Monty Hall problem?\n",
        "\n",
        "Not really 'answer', but what is a better choice when asked to switch the door or not?\n",
        "\n",
        "\\\n",
        "A better question would be to ask...\n",
        "\n",
        "\n",
        "**What decision has better probabability of making us WIN the car?**"
      ],
      "metadata": {
        "id": "DiBnwlr4IWEF"
      }
    },
    {
      "cell_type": "code",
      "execution_count": null,
      "metadata": {
        "id": "YoGmcB8JAmFr"
      },
      "outputs": [],
      "source": [
        "no = 0   #variable for storing number of event occurence\n",
        "for i in range(1000):\n",
        "  car_loc = uniform(3, 1)\n",
        "  if car_loc == 1:\n",
        "    goat1_loc = 2; goat2_loc = 3\n",
        "  elif car_loc == 2:\n",
        "    goat1_loc = 1; goat2_loc = 3\n",
        "  else:\n",
        "    goat1_loc = 1; goat2_loc = 2\n",
        "\n",
        "  contestant_orig = uniform(3, 1)\n",
        "  if contestant_orig == goat1_loc:\n",
        "    host_reveal_loc = goat2_loc; other_closed_door = car_loc\n",
        "  elif contestant_orig == goat2_loc:\n",
        "    host_reveal_loc = goat1_loc; other_closed_door = car_loc\n",
        "  else:\n",
        "    host_reveal_loc = goat1_loc; other_closed_door = goat2_loc\n",
        "  if other_closed_door == car_loc:\n",
        "    no = no + 1\n",
        "\n",
        "print(no/1000) #probability estimate by Monte Carlo"
      ]
    }
  ]
}