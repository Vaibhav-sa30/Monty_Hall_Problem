{
  "nbformat": 4,
  "nbformat_minor": 0,
  "metadata": {
    "colab": {
      "provenance": [],
      "include_colab_link": true
    },
    "kernelspec": {
      "name": "python3",
      "display_name": "Python 3"
    },
    "language_info": {
      "name": "python"
    }
  },
  "cells": [
    {
      "cell_type": "markdown",
      "metadata": {
        "id": "view-in-github",
        "colab_type": "text"
      },
      "source": [
        "<a href=\"https://colab.research.google.com/github/Vaibhav-sa30/Monty_Hall_Problem/blob/main/Monty_Hall_Algorithm.ipynb\" target=\"_parent\"><img src=\"https://colab.research.google.com/assets/colab-badge.svg\" alt=\"Open In Colab\"/></a>"
      ]
    },
    {
      "cell_type": "markdown",
      "source": [
        "# Monty Hall problem\n",
        "\n",
        "Here is the problem taken from the [Wiki page](https://en.wikipedia.org/wiki/Monty_Hall_problem).\n",
        "\n",
        "> Suppose you're on a game show, and you're given the choice of three doors: Behind one door is a car; behind the other two doors, goats. You pick a door, say No. 1, and the host, who knows what's behind the doors, opens another door, say No. 3, which has a goat. He then says to you, \"Do you want to pick door No. 2?\"\n",
        "\n",
        "> Is it to your advantage to switch your choice?\n",
        "\n",
        "The assumptions (also taken from [Wiki](https://en.wikipedia.org/wiki/Monty_Hall_problem)) are as follows:\n",
        "1. Car and goats are placed at random behind the doors.\n",
        "2. Host always picks a door not chosen by contestant.\n",
        "3. Host always reveals a goat and not a car.\n",
        "4. Host always offers a choice to switch from the original door to the other closed door.\n",
        "\n",
        "Under the above assumptions, here are the probabilities of winning.\n",
        "\n",
        "P(win if contestant chooses to switch) = 2/3\n",
        "\n",
        "P(win if contestant does not switch) = 1/3\n",
        "\n",
        "You can see the Wiki page for the computation. Let us simulate and find the probability of winning under switch by Monte Carlo."
      ],
      "metadata": {
        "id": "LHwZXEAILFoH"
      }
    },
    {
      "cell_type": "code",
      "source": [
        "import random\n",
        "import matplotlib.pyplot as plt\n",
        "plt.style.use('fivethirtyeight')"
      ],
      "metadata": {
        "id": "bYrVHFrWQJnv"
      },
      "execution_count": 2,
      "outputs": []
    },
    {
      "cell_type": "markdown",
      "source": [
        "###Create a function for the host to reveal a door that doesn't contain the price AND the door that is not already chosen by the contestent originally.\n"
      ],
      "metadata": {
        "id": "IHt833siN_UG"
      }
    },
    {
      "cell_type": "code",
      "source": [
        "\n",
        "def get_non_prize_door(host, num_doors, player_choice):\n",
        "  i = 1\n",
        "  while (i ==  host or i == player_choice):\n",
        "    i = (i+1)%(num_doors)\n",
        "\n",
        "  return i\n"
      ],
      "metadata": {
        "id": "LNZJrAQvQc6g"
      },
      "execution_count": 3,
      "outputs": []
    },
    {
      "cell_type": "markdown",
      "source": [
        "###Create a function to have the player chose a door that is already been not chosen"
      ],
      "metadata": {
        "id": "1CfXQ9MjN7IQ"
      }
    },
    {
      "cell_type": "code",
      "source": [
        "\n",
        "\n",
        "def switch_door(shown_door, num_doors, player_choice):\n",
        "  i = 1\n",
        "  while (i == shown_door or i == player_choice):\n",
        "    i = (i+1)%(num_doors)\n",
        "\n",
        "  return i\n"
      ],
      "metadata": {
        "id": "SPR-MFhCR-FL"
      },
      "execution_count": 4,
      "outputs": []
    },
    {
      "cell_type": "markdown",
      "source": [
        "##Let's Simulate THE GAME"
      ],
      "metadata": {
        "id": "YEVCYAi2N1Y_"
      }
    },
    {
      "cell_type": "code",
      "source": [
        "#Create a function to simulate THE GAME\n",
        "\n",
        "def monty_hall_game(switch, num_tests):\n",
        "\n",
        "  win_switch_cnt = 0\n",
        "  win_no_switch_cnt = 0\n",
        "  lose_switch_cnt = 0\n",
        "  lose_no_switch_cnt = 0\n",
        "\n",
        "  doors = [0,1,2]\n",
        "  num_doors = len(doors)\n",
        "\n",
        "  #Loop through the number of times the contestant/player can play the game\n",
        "  for i in range(0, num_tests):\n",
        "    door_with_prize = random.randint(0, num_doors-1) #Randomly choose a door between [0,2]\n",
        "    host = door_with_prize\n",
        "    player_choice = random.randint(0, num_doors-1)\n",
        "    original_player_choice = player_choice\n",
        "    shown_door = get_non_prize_door(host, num_doors, player_choice)\n",
        "\n",
        "    #if the player chooses to always switch, then allow the player to switch to their original chosen door to the other door.\n",
        "\n",
        "    if switch == True:\n",
        "      player_choice = switch_door(shown_door, num_doors, player_choice)\n",
        "\n",
        "    if player_choice == door_with_prize  and switch == False:\n",
        "      #Then the player wins from not switching\n",
        "      print('Player Wins (No Switch) - The Player chose door ', player_choice, 'Original Door Choice: ', original_player_choice, 'Door with Prize: ', door_with_prize, 'Shown_Door: ', shown_door)\n",
        "      win_no_switch_cnt += 1\n",
        "\n",
        "    elif player_choice == door_with_prize  and switch == True:\n",
        "      #Then the player wins from switching\n",
        "      print('Player Wins (Switches) - The Player chose door ', player_choice, 'Original Door Choice: ', original_player_choice, 'Door with Prize: ', door_with_prize, 'Shown_Door: ', shown_door)\n",
        "      win_switch_cnt += 1\n",
        "\n",
        "    elif player_choice != door_with_prize  and switch == False:\n",
        "      #Then the player loses from not switching\n",
        "      print('Player Lost (No Switch) - The Player chose door ', player_choice, 'Original Door Choice: ', original_player_choice, 'Door with Prize: ', door_with_prize, 'Shown_Door: ', shown_door)\n",
        "      lose_no_switch_cnt += 1\n",
        "\n",
        "    elif player_choice != door_with_prize  and switch == True:\n",
        "      #Then the player loses from switching\n",
        "      print('Player Lost (Switches) - The Player chose door ', player_choice, 'Original Door Choice: ', original_player_choice, 'Door with Prize: ', door_with_prize, 'Shown_Door: ', shown_door)\n",
        "      lose_switch_cnt += 1\n",
        "\n",
        "    else:\n",
        "      print('SOMETHING WENT WRONG')\n",
        "\n",
        "  return win_no_switch_cnt, win_switch_cnt, lose_no_switch_cnt, lose_switch_cnt, num_tests\n",
        "\n"
      ],
      "metadata": {
        "id": "iODvn542SxHJ"
      },
      "execution_count": 5,
      "outputs": []
    },
    {
      "cell_type": "markdown",
      "source": [
        "##Play the Game\n"
      ],
      "metadata": {
        "id": "21-DIs0eNuSA"
      }
    },
    {
      "cell_type": "code",
      "source": [
        "x = monty_hall_game(True, 10)"
      ],
      "metadata": {
        "colab": {
          "base_uri": "https://localhost:8080/"
        },
        "id": "sEV2wcydhBBj",
        "outputId": "48f6bd8d-ce06-4ff4-d99d-160373af97cc"
      },
      "execution_count": 6,
      "outputs": [
        {
          "output_type": "stream",
          "name": "stdout",
          "text": [
            "Player Wins (Switches) - The Player chose door  0 Original Door Choice:  2 Door with Prize:  0 Shown_Door:  1\n",
            "Player Wins (Switches) - The Player chose door  0 Original Door Choice:  1 Door with Prize:  0 Shown_Door:  2\n",
            "Player Lost (Switches) - The Player chose door  0 Original Door Choice:  1 Door with Prize:  1 Shown_Door:  2\n",
            "Player Wins (Switches) - The Player chose door  2 Original Door Choice:  1 Door with Prize:  2 Shown_Door:  0\n",
            "Player Wins (Switches) - The Player chose door  1 Original Door Choice:  0 Door with Prize:  1 Shown_Door:  2\n",
            "Player Lost (Switches) - The Player chose door  0 Original Door Choice:  2 Door with Prize:  2 Shown_Door:  1\n",
            "Player Wins (Switches) - The Player chose door  2 Original Door Choice:  0 Door with Prize:  2 Shown_Door:  1\n",
            "Player Wins (Switches) - The Player chose door  0 Original Door Choice:  1 Door with Prize:  0 Shown_Door:  2\n",
            "Player Wins (Switches) - The Player chose door  1 Original Door Choice:  0 Door with Prize:  1 Shown_Door:  2\n",
            "Player Wins (Switches) - The Player chose door  0 Original Door Choice:  2 Door with Prize:  0 Shown_Door:  1\n"
          ]
        }
      ]
    },
    {
      "cell_type": "markdown",
      "source": [
        "###Get the win and lose percentage for switching and not switching\n"
      ],
      "metadata": {
        "id": "hsQ1-HqLNqGA"
      }
    },
    {
      "cell_type": "code",
      "source": [
        "\n",
        "print(\"Win switch %:  \", x[1]/x[4])\n",
        "\n",
        "print(\"Lose switch %:  \", x[3]/x[4])\n",
        "\n",
        "print(\"Win No switch %:  \", x[0]/x[4])\n",
        "\n",
        "print(\"Lose No switch %:  \", x[2]/x[4])"
      ],
      "metadata": {
        "colab": {
          "base_uri": "https://localhost:8080/"
        },
        "id": "lSxXNCRthkyG",
        "outputId": "bbe99619-422f-47a8-eb43-f27ff1a8ff19"
      },
      "execution_count": 7,
      "outputs": [
        {
          "output_type": "stream",
          "name": "stdout",
          "text": [
            "Win switch %:   0.8\n",
            "Lose switch %:   0.2\n",
            "Win No switch %:   0.0\n",
            "Lose No switch %:   0.0\n"
          ]
        }
      ]
    },
    {
      "cell_type": "markdown",
      "source": [
        "###Create a function to simulate a longer version of THE GAME"
      ],
      "metadata": {
        "id": "UIK0ZA4PNdQo"
      }
    },
    {
      "cell_type": "code",
      "source": [
        "def monty_hall_game2(switch, num_tests):\n",
        "\n",
        "  win_switch_cnt = 0\n",
        "  win_no_switch_cnt = 0\n",
        "  lose_switch_cnt = 0\n",
        "  lose_no_switch_cnt = 0\n",
        "\n",
        "  doors = [0,1,2]\n",
        "  num_doors = len(doors)\n",
        "\n",
        "  #Loop through the number of times the contestant/player can play the game\n",
        "  for i in range(0, num_tests):\n",
        "    door_with_prize = random.randint(0, num_doors-1) #Randomly choose a door between [0,2]\n",
        "    host = door_with_prize\n",
        "    player_choice = random.randint(0, num_doors-1)\n",
        "    original_player_choice = player_choice\n",
        "    shown_door = get_non_prize_door(host, num_doors, player_choice)\n",
        "\n",
        "    #if the player chooses to always switch, then allow the player to switch to their original chosen door to the other door.\n",
        "\n",
        "    if switch == True:\n",
        "      player_choice = switch_door(shown_door, num_doors, player_choice)\n",
        "\n",
        "    if player_choice == door_with_prize  and switch == False:\n",
        "      #Then the player wins from not switching\n",
        "      win_no_switch_cnt += 1\n",
        "\n",
        "    elif player_choice == door_with_prize  and switch == True:\n",
        "      #Then the player wins from switching\n",
        "      win_switch_cnt += 1\n",
        "\n",
        "    elif player_choice != door_with_prize  and switch == False:\n",
        "      #Then the player loses from not switching\n",
        "      lose_no_switch_cnt += 1\n",
        "\n",
        "    elif player_choice != door_with_prize  and switch == True:\n",
        "      #Then the player loses from switching\n",
        "      lose_switch_cnt += 1\n",
        "\n",
        "  return win_no_switch_cnt, win_switch_cnt, lose_no_switch_cnt, lose_switch_cnt, num_tests\n",
        "\n"
      ],
      "metadata": {
        "id": "J0I42ce_kGWs"
      },
      "execution_count": 8,
      "outputs": []
    },
    {
      "cell_type": "markdown",
      "source": [
        "###Let's get the win percentages of every case"
      ],
      "metadata": {
        "id": "7-Adp7JgOJxw"
      }
    },
    {
      "cell_type": "code",
      "source": [
        "y = monty_hall_game2(True, 10000)\n",
        "\n",
        "\n",
        "print(\"Win switch %:  \", y[1]/y[4])\n",
        "\n",
        "print(\"Lose switch %:  \", y[3]/y[4])\n",
        "\n",
        "print(\"Win No switch %:  \", y[0]/y[4])\n",
        "\n",
        "print(\"Lose No switch %:  \", y[2]/y[4])"
      ],
      "metadata": {
        "colab": {
          "base_uri": "https://localhost:8080/"
        },
        "id": "NBkjip5-kQ8k",
        "outputId": "d056a2e1-9b47-4b70-f713-fc23f88328b4"
      },
      "execution_count": 9,
      "outputs": [
        {
          "output_type": "stream",
          "name": "stdout",
          "text": [
            "Win switch %:   0.6665\n",
            "Lose switch %:   0.3335\n",
            "Win No switch %:   0.0\n",
            "Lose No switch %:   0.0\n"
          ]
        }
      ]
    },
    {
      "cell_type": "markdown",
      "source": [
        "# **TO SWITCH OR NOT TO SWITCH?**\n",
        "\n",
        "So what is the answer to Monty Hall problem?\n",
        "\n",
        "Not really 'answer', but what is a better choice when asked to switch the door or not?\n",
        "\n",
        "\\\n",
        "A better question would be to ask...\n",
        "\n",
        "\n",
        "**What decision has better probabability of making us WIN the car?**\n",
        "\n",
        "or\n",
        "\n",
        "What is the win percentage if I switch everytime if I play this game say 2000 times?"
      ],
      "metadata": {
        "id": "DiBnwlr4IWEF"
      }
    },
    {
      "cell_type": "markdown",
      "source": [
        "###Get the data to create visualization of the number of simulated tests/games played and the percentage of wins from always switching\n"
      ],
      "metadata": {
        "id": "S7iWpWbiOZkM"
      }
    },
    {
      "cell_type": "code",
      "source": [
        "num_tests = []\n",
        "win_percentage = []\n",
        "switch = True\n",
        "#Run upto 2000 simulated games\n",
        "\n",
        "for i in range(1, 2001):\n",
        "  num_tests.append(i)\n",
        "  y = monty_hall_game2(switch, i)\n",
        "  win_percentage.append(y[1]/y[4])\n"
      ],
      "metadata": {
        "id": "mt-G3FXKk5EN"
      },
      "execution_count": 10,
      "outputs": []
    },
    {
      "cell_type": "markdown",
      "source": [
        "###Monte Carlo Simulation of the Game"
      ],
      "metadata": {
        "id": "nP9gD85iRJJ9"
      }
    },
    {
      "cell_type": "code",
      "execution_count": 12,
      "metadata": {
        "id": "YoGmcB8JAmFr",
        "outputId": "9f07ad47-c6ca-4688-beb0-7cc68596a2e4",
        "colab": {
          "base_uri": "https://localhost:8080/"
        }
      },
      "outputs": [
        {
          "output_type": "stream",
          "name": "stdout",
          "text": [
            "0.665\n"
          ]
        }
      ],
      "source": [
        "import numpy as np\n",
        "\n",
        "\n",
        "def uniform(n, m):\n",
        "  return np.random.randint(1, n+1, size = m)\n",
        "\n",
        "\n",
        "no = 0   #variable for storing number of event occurence\n",
        "for i in range(1000):\n",
        "  car_loc = uniform(3, 1)\n",
        "  if car_loc == 1:\n",
        "    goat1_loc = 2; goat2_loc = 3\n",
        "  elif car_loc == 2:\n",
        "    goat1_loc = 1; goat2_loc = 3\n",
        "  else:\n",
        "    goat1_loc = 1; goat2_loc = 2\n",
        "\n",
        "  contestant_orig = uniform(3, 1)\n",
        "  if contestant_orig == goat1_loc:\n",
        "    host_reveal_loc = goat2_loc; other_closed_door = car_loc\n",
        "  elif contestant_orig == goat2_loc:\n",
        "    host_reveal_loc = goat1_loc; other_closed_door = car_loc\n",
        "  else:\n",
        "    host_reveal_loc = goat1_loc; other_closed_door = goat2_loc\n",
        "  if other_closed_door == car_loc:\n",
        "    no = no + 1\n",
        "\n",
        "print(no/1000) #probability estimate by Monte Carlo"
      ]
    },
    {
      "cell_type": "code",
      "source": [
        "plt.figure(figsize = (12.2, 4.5))\n",
        "plt.plot(num_tests, win_percentage)\n",
        "plt.title('Monty Hall Problem')\n",
        "plt.xlabel('Number of tests')\n",
        "plt.ylabel('Win %')\n",
        "plt.show()"
      ],
      "metadata": {
        "colab": {
          "base_uri": "https://localhost:8080/",
          "height": 484
        },
        "id": "inx14RFJl8fq",
        "outputId": "a5df2362-0c69-474c-b08f-14b63eac5492"
      },
      "execution_count": 13,
      "outputs": [
        {
          "output_type": "display_data",
          "data": {
            "text/plain": [
              "<Figure size 1220x450 with 1 Axes>"
            ],
            "image/png": "[encoded data removed]"
          },
          "metadata": {}
        }
      ]
    },
    {
      "cell_type": "code",
      "source": [
        "print('The win percentage for test playing ', y[4] , 'games is: ', y[1]/y[4]*100, '%')"
      ],
      "metadata": {
        "colab": {
          "base_uri": "https://localhost:8080/"
        },
        "id": "sUEcxDyYnEKP",
        "outputId": "f4f096ed-f0dc-4515-c239-e7613ddcb2d4"
      },
      "execution_count": 14,
      "outputs": [
        {
          "output_type": "stream",
          "name": "stdout",
          "text": [
            "The win percentage for test playing  2000 games is:  67.0 %\n"
          ]
        }
      ]
    },
    {
      "cell_type": "markdown",
      "source": [
        "#Conclusion\n",
        "\n",
        "\n",
        "\n",
        "It's easier to sum this up as:\n",
        "\n",
        "\\\n",
        "\n",
        "The probability of winning by SWITCHING is higher than not switching, because the probability of winning by picking the correct door in your original choice is 1/3.\n",
        "\n",
        "In order to lose by switching, you have to have picked right at first. So you will lose by switching 1/3 of the time. So switch."
      ],
      "metadata": {
        "id": "-R9smkfXPIfL"
      }
    }
  ]
}